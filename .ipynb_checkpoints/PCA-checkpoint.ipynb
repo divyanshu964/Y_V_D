{
 "cells": [
  {
   "cell_type": "code",
   "execution_count": 1,
   "metadata": {},
   "outputs": [
    {
     "name": "stderr",
     "output_type": "stream",
     "text": [
      "'wget' is not recognized as an internal or external command,\n",
      "operable program or batch file.\n",
      "unzip:  cannot find or open att_faces.zip, att_faces.zip.zip or att_faces.zip.ZIP.\n"
     ]
    }
   ],
   "source": [
    "#!wget http://www.cl.cam.ac.uk/Research/DTG/attarchive/pub/data/att_faces.zip -O att_faces.zip\n",
    "#!unzip att_faces.zip"
   ]
  },
  {
   "cell_type": "code",
   "execution_count": null,
   "metadata": {},
   "outputs": [],
   "source": [
    "import numpy as np\n",
    "from scipy.misc import imread\n",
    "import matplotlib.pyplot as plt\n",
    "img = imread(‘s1/1.pgm’)\n",
    "img = img.astype(np.uint8)\n",
    "img = img / 255\n",
    "plt.imshow(img,cmap=’gray’)"
   ]
  },
  {
   "cell_type": "code",
   "execution_count": null,
   "metadata": {},
   "outputs": [],
   "source": [
    "from glob import iglob\n",
    "faces = pd.DataFrame([])\n",
    "for path in iglob(‘*/*.pgm’):\n",
    " img=imread(path)\n",
    " face = pd.Series(img.flatten(),name=path)\n",
    " faces = faces.append(face)\n",
    " \n",
    "fig, axes = plt.subplots(10,10,figsize=(9,9),\n",
    " subplot_kw={‘xticks’:[], ‘yticks’:[]},\n",
    " gridspec_kw=dict(hspace=0.01, wspace=0.01))\n",
    "for i, ax in enumerate(axes.flat):\n",
    " ax.imshow(faces.iloc[i].values.reshape(112,92),cmap=”gray”)\n"
   ]
  },
  {
   "cell_type": "code",
   "execution_count": null,
   "metadata": {},
   "outputs": [],
   "source": [
    "from sklearn.decomposition import PCA\n",
    "#n_components=0.80 means it will return the Eigenvectors that have the 80% of the variation in the dataset\n",
    "faces_pca = PCA(n_components=0.8)\n",
    "faces_pca.fit(faces)\n",
    "fig, axes = plt.subplots(2,10,figsize=(9,3),\n",
    " subplot_kw={‘xticks’:[], ‘yticks’:[]},\n",
    " gridspec_kw=dict(hspace=0.01, wspace=0.01))\n",
    "for i, ax in enumerate(axes.flat):\n",
    " ax.imshow(faces_pca.components_[i].reshape(112,92),cmap=”gray”)"
   ]
  },
  {
   "cell_type": "code",
   "execution_count": null,
   "metadata": {},
   "outputs": [],
   "source": [
    "components = faces_pca.transform(faces)\n",
    "projected = faces_pca.inverse_transform(components)\n",
    "fig, axes = plt.subplots(10,10,figsize=(9,9), subplot_kw={'xticks':[], 'yticks':[]},\n",
    "            gridspec_kw=dict(hspace=0.01, wspace=0.01))\n",
    "for i, ax in enumerate(axes.flat):\n",
    "    ax.imshow(projected[i].reshape(112,92),cmap=\"gray\")"
   ]
  },
  {
   "cell_type": "code",
   "execution_count": null,
   "metadata": {},
   "outputs": [],
   "source": []
  }
 ],
 "metadata": {
  "kernelspec": {
   "display_name": "Python 3",
   "language": "python",
   "name": "python3"
  },
  "language_info": {
   "codemirror_mode": {
    "name": "ipython",
    "version": 3
   },
   "file_extension": ".py",
   "mimetype": "text/x-python",
   "name": "python",
   "nbconvert_exporter": "python",
   "pygments_lexer": "ipython3",
   "version": "3.6.8"
  }
 },
 "nbformat": 4,
 "nbformat_minor": 2
}
